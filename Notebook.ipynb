{
 "cells": [
  {
   "cell_type": "markdown",
   "metadata": {},
   "source": [
    "## Creating a Linear Regression Model Using Gemini  "
   ]
  },
  {
   "cell_type": "markdown",
   "metadata": {},
   "source": [
    "### Business Problem \n",
    "A marketing team wants to know what media platforms (TV, Radio, Newspaper) contributes the most to company sales.  "
   ]
  },
  {
   "cell_type": "markdown",
   "metadata": {},
   "source": [
    "### The Task\n",
    "Use Gemini within [Google Colab](https://colab.research.google.com/) to create a simple linear regression model (one media platform predicting sales) and a multiple linear regression model (more than one media platform predicting sales).\n",
    "\n",
    "Create these models AFTER exploring/visualizing the data and give insights to the marketing team."
   ]
  },
  {
   "cell_type": "markdown",
   "metadata": {},
   "source": [
    "### Data\n",
    "The data is stored on this repo within the `data` folder and openly available on [Kaggle](https://www.kaggle.com/datasets/thorgodofthunder/tvradionewspaperadvertising/data) "
   ]
  },
  {
   "cell_type": "markdown",
   "metadata": {},
   "source": [
    "### Limitations \n",
    "- The data is fictional and is missing units for all variables.  We will assume the units will be in millions of dollars ($M)\n",
    "\n",
    "- Linear Regression Models are not strong 'predictive' models -- therefore we won't be 'predicting' sales rather gaining inferences about what media platform contributes to the variation of sales the most"
   ]
  },
  {
   "cell_type": "markdown",
   "metadata": {},
   "source": [
    "### Prompting Formula \n",
    "\n",
    "![Prompt Formula](https://miro.medium.com/v2/resize:fit:720/format:webp/1*ahzFDbPeZavmQlGgHOpd2w.png)\n",
    "\n",
    "*Source:  [DatHero Medium Blog](https://medium.com/@eldatero/master-the-perfect-chatgpt-prompt-formula-c776adae8f19)*\n",
    "\n",
    "We will focus on the *task*, *context*, and *persona* pieces of the formula in our prompts. "
   ]
  },
  {
   "cell_type": "markdown",
   "metadata": {},
   "source": [
    "### The First PROMPT\n",
    "\n",
    "Imagine you don't know ANYTHING about code.  We will use the prompt below to ask Gemini to give us a step-by-step process first, then use that to do our analysis piece by piece.\n",
    "\n",
    "**\"You are an expert data analyst (persona) creating a simple linear regression model to predict sales. Give me a process for coding this in Google Colab.  Return a list of process steps that includes exploring the data, building the model, and evaluating it. (task)\"**"
   ]
  },
  {
   "cell_type": "markdown",
   "metadata": {},
   "source": [
    "#### Step 1:  Import Libraries "
   ]
  },
  {
   "cell_type": "code",
   "execution_count": null,
   "metadata": {
    "vscode": {
     "languageId": "plaintext"
    }
   },
   "outputs": [],
   "source": [
    "# Code Here"
   ]
  },
  {
   "cell_type": "markdown",
   "metadata": {},
   "source": [
    "#### Step 2:  Read in the Data "
   ]
  },
  {
   "cell_type": "code",
   "execution_count": null,
   "metadata": {
    "vscode": {
     "languageId": "plaintext"
    }
   },
   "outputs": [],
   "source": [
    "# Code Here"
   ]
  },
  {
   "cell_type": "markdown",
   "metadata": {},
   "source": [
    "#### Step 3:  Explore the data "
   ]
  },
  {
   "cell_type": "code",
   "execution_count": null,
   "metadata": {
    "vscode": {
     "languageId": "plaintext"
    }
   },
   "outputs": [],
   "source": [
    "# Code Here"
   ]
  },
  {
   "cell_type": "markdown",
   "metadata": {},
   "source": [
    "#### Step 4:  Prepare the data"
   ]
  },
  {
   "cell_type": "code",
   "execution_count": null,
   "metadata": {
    "vscode": {
     "languageId": "plaintext"
    }
   },
   "outputs": [],
   "source": [
    "# Code Here"
   ]
  },
  {
   "cell_type": "markdown",
   "metadata": {},
   "source": [
    "#### Step 5:  Build the model "
   ]
  },
  {
   "cell_type": "code",
   "execution_count": null,
   "metadata": {
    "vscode": {
     "languageId": "plaintext"
    }
   },
   "outputs": [],
   "source": [
    "# Code Here"
   ]
  },
  {
   "cell_type": "markdown",
   "metadata": {},
   "source": [
    "#### Step 6:  Make 'predictions' "
   ]
  },
  {
   "cell_type": "code",
   "execution_count": null,
   "metadata": {
    "vscode": {
     "languageId": "plaintext"
    }
   },
   "outputs": [],
   "source": [
    "# Code Here"
   ]
  },
  {
   "cell_type": "markdown",
   "metadata": {},
   "source": [
    "#### Step 7:  Evaluate the model "
   ]
  },
  {
   "cell_type": "code",
   "execution_count": null,
   "metadata": {
    "vscode": {
     "languageId": "plaintext"
    }
   },
   "outputs": [],
   "source": [
    "# Code Here"
   ]
  },
  {
   "cell_type": "markdown",
   "metadata": {},
   "source": [
    "#### Type in some insights from the **simple linear regression** model "
   ]
  },
  {
   "cell_type": "markdown",
   "metadata": {},
   "source": [
    "### Part 2:  Build a Multiple Linear Regression Model using the same techniques above "
   ]
  },
  {
   "cell_type": "code",
   "execution_count": null,
   "metadata": {
    "vscode": {
     "languageId": "plaintext"
    }
   },
   "outputs": [],
   "source": [
    "# Code Here"
   ]
  }
 ],
 "metadata": {
  "language_info": {
   "name": "python"
  }
 },
 "nbformat": 4,
 "nbformat_minor": 2
}
